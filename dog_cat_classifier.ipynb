{
  "nbformat": 4,
  "nbformat_minor": 0,
  "metadata": {
    "colab": {
      "name": "dog-cat-classifier.ipynb",
      "provenance": [],
      "collapsed_sections": [],
      "authorship_tag": "ABX9TyOeayAff0IYdN2RYsfAOVhW",
      "include_colab_link": true
    },
    "kernelspec": {
      "name": "python3",
      "display_name": "Python 3"
    },
    "language_info": {
      "name": "python"
    },
    "accelerator": "GPU",
    "gpuClass": "standard"
  },
  "cells": [
    {
      "cell_type": "markdown",
      "metadata": {
        "id": "view-in-github",
        "colab_type": "text"
      },
      "source": [
        "<a href=\"https://colab.research.google.com/github/akinyeleolat/dog-cats-classification/blob/main/dog_cat_classifier.ipynb\" target=\"_parent\"><img src=\"https://colab.research.google.com/assets/colab-badge.svg\" alt=\"Open In Colab\"/></a>"
      ]
    },
    {
      "cell_type": "code",
      "execution_count": null,
      "metadata": {
        "colab": {
          "base_uri": "https://localhost:8080/"
        },
        "id": "9RtWD8lflr3J",
        "outputId": "a475dc7c-4ff3-4f8f-e80a-699861717d71"
      },
      "outputs": [
        {
          "output_type": "stream",
          "name": "stdout",
          "text": [
            "dogs-vs-cats.zip: Skipping, found more recently modified local copy (use --force to force download)\n"
          ]
        }
      ],
      "source": [
        "import os\n",
        "os.environ['KAGGLE_USERNAME']='oluwatosinaakinyele'\n",
        "os.environ['KAGGLE_KEY']='dc962ca717c5417374e956e1a4fd01f9'\n",
        "!kaggle competitions download -c dogs-vs-cats"
      ]
    },
    {
      "cell_type": "code",
      "source": [
        "#upload data\n",
        "from zipfile import ZipFile\n",
        "file_name =\"/content/dogs-vs-cats.zip\"\n",
        "with ZipFile(file_name,'r') as zip:\n",
        "  zip.extractall()\n",
        "  print('done')"
      ],
      "metadata": {
        "colab": {
          "base_uri": "https://localhost:8080/"
        },
        "id": "JmnGF8o2qQrW",
        "outputId": "f098da31-1933-483d-cca5-0abd9600d6e0"
      },
      "execution_count": null,
      "outputs": [
        {
          "output_type": "stream",
          "name": "stdout",
          "text": [
            "done\n"
          ]
        }
      ]
    },
    {
      "cell_type": "code",
      "source": [
        "#upload data\n",
        "from zipfile import ZipFile\n",
        "file_name =\"/content/train.zip\"\n",
        "with ZipFile(file_name,'r') as zip:\n",
        "  zip.extractall()\n",
        "  print('done')"
      ],
      "metadata": {
        "colab": {
          "base_uri": "https://localhost:8080/"
        },
        "id": "wFhFhvh2rN4T",
        "outputId": "669a6f9f-ef07-4e12-bcb8-d1b7e9b22aee"
      },
      "execution_count": null,
      "outputs": [
        {
          "output_type": "stream",
          "name": "stdout",
          "text": [
            "done\n"
          ]
        }
      ]
    },
    {
      "cell_type": "code",
      "source": [
        "data_dir_list = os.listdir('/content/train')\n",
        "#print(data_dir_list)\n",
        "\n",
        "path, dirs, files = next(os.walk(\"/content/train\"))\n",
        "file_count = len(files)\n",
        "print(file_count)"
      ],
      "metadata": {
        "colab": {
          "base_uri": "https://localhost:8080/"
        },
        "id": "_arwd3Mnr7Yl",
        "outputId": "4379f0a6-4549-4549-ff60-03ac3af286d5"
      },
      "execution_count": null,
      "outputs": [
        {
          "output_type": "stream",
          "name": "stdout",
          "text": [
            "25000\n"
          ]
        }
      ]
    },
    {
      "cell_type": "code",
      "source": [
        "original_dataset_dir = '/content/train'\n",
        "base_dir = '/content/cats_and_dogs_small'\n",
        "os.mkdir(base_dir) #make base directory"
      ],
      "metadata": {
        "id": "CGyVlFZQr9hR"
      },
      "execution_count": null,
      "outputs": []
    },
    {
      "cell_type": "code",
      "source": [
        "#Create directory paths\n",
        "\n",
        "train_dir = os.path.join(base_dir, 'train')\n",
        "os.mkdir(train_dir)\n",
        "\n",
        "validation_dir = os.path.join(base_dir, 'validation')\n",
        "os.mkdir(validation_dir)\n",
        "\n",
        "test_dir = os.path.join(base_dir, 'test')\n",
        "os.mkdir(test_dir)\n",
        "\n",
        "train_cats_dir = os.path.join(train_dir, 'cats')\n",
        "os.mkdir(train_cats_dir)\n",
        "\n",
        "train_dogs_dir = os.path.join(train_dir, 'dogs')\n",
        "os.mkdir(train_dogs_dir)\n",
        "\n",
        "validation_cats_dir = os.path.join(validation_dir, 'cats')\n",
        "os.mkdir(validation_cats_dir)\n",
        "\n",
        "validation_dogs_dir = os.path.join(validation_dir, 'dogs')\n",
        "os.mkdir(validation_dogs_dir)\n",
        "\n",
        "test_cats_dir = os.path.join(test_dir, 'cats')\n",
        "os.mkdir(test_cats_dir)\n",
        "\n",
        "test_dogs_dir = os.path.join(test_dir, 'dogs')\n",
        "os.mkdir(test_dogs_dir)"
      ],
      "metadata": {
        "id": "4bFBy2QNsW-n"
      },
      "execution_count": null,
      "outputs": []
    },
    {
      "cell_type": "code",
      "source": [
        "import shutil\n",
        "\n",
        "# def createFName(org_data_dir, train_data_class_dir, rangeInput1, rangeInput2):\n",
        "#     \"This funciton is to create the source and desitnation paths and copy the data.\"\n",
        "#     fnames = ['cat.{}.jpg'.format(i) for i in range(rangeInput1,rangeInput2)]\n",
        "#     for fname in fnames:\n",
        "#         src = os.path.join(org_data_dir, fname)\n",
        "#         dst = os.path.join(train_data_class_dir, fname)\n",
        "#         #print(src,dst)\n",
        "#         shutil.copyfile(src, dst)\n",
        "\n",
        "# createFName(original_dataset_dir,train_cats_dir,0,1000)\n",
        "# createFName(original_dataset_dir,validation_cats_dir,1000,1500)\n",
        "# createFName(original_dataset_dir,test_cats_dir,1500,2000)\n",
        "\n",
        "# createFName(original_dataset_dir,train_dogs_dir,0,1000)\n",
        "# createFName(original_dataset_dir,validation_dogs_dir,1000,1500)\n",
        "# createFName(original_dataset_dir,test_dogs_dir,1500,2000)\n",
        "\n",
        "fnames = ['cat.{}.jpg'.format(i) for i in range(1000)]\n",
        "for fname in fnames:\n",
        "    src = os.path.join(original_dataset_dir, fname)\n",
        "    dst = os.path.join(train_cats_dir, fname)\n",
        "    #print(src,dst)\n",
        "    shutil.copyfile(src, dst)\n",
        "    \n",
        "fnames = ['cat.{}.jpg'.format(i) for i in range(1000, 1500)]\n",
        "for fname in fnames:\n",
        "    src = os.path.join(original_dataset_dir, fname)\n",
        "    dst = os.path.join(validation_cats_dir, fname)\n",
        "    shutil.copyfile(src, dst)\n",
        "\n",
        "fnames = ['cat.{}.jpg'.format(i) for i in range(1500, 2000)]\n",
        "for fname in fnames:\n",
        "    src = os.path.join(original_dataset_dir, fname)\n",
        "    dst = os.path.join(test_cats_dir, fname)\n",
        "    shutil.copyfile(src, dst)\n",
        "    \n",
        "fnames = ['dog.{}.jpg'.format(i) for i in range(1000)]\n",
        "for fname in fnames:\n",
        "    src = os.path.join(original_dataset_dir, fname)\n",
        "    dst = os.path.join(train_dogs_dir, fname)\n",
        "    shutil.copyfile(src, dst)\n",
        "\n",
        "fnames = ['dog.{}.jpg'.format(i) for i in range(1000, 1500)]\n",
        "for fname in fnames:\n",
        "    src = os.path.join(original_dataset_dir, fname)\n",
        "    dst = os.path.join(validation_dogs_dir, fname)\n",
        "    shutil.copyfile(src, dst)\n",
        "\n",
        "fnames = ['dog.{}.jpg'.format(i) for i in range(1500, 2000)]\n",
        "for fname in fnames:\n",
        "    src = os.path.join(original_dataset_dir, fname)\n",
        "    dst = os.path.join(test_dogs_dir, fname)\n",
        "    shutil.copyfile(src, dst)\n"
      ],
      "metadata": {
        "id": "YZo1uVxOtzGH"
      },
      "execution_count": null,
      "outputs": []
    },
    {
      "cell_type": "code",
      "source": [
        "print('total training cat images:', len(os.listdir(train_cats_dir)))\n",
        "print('total training dog images:', len(os.listdir(train_dogs_dir)))\n",
        "print('total validation cat images:', len(os.listdir(validation_cats_dir)))\n",
        "\n",
        "print('total validation dog images:', len(os.listdir(validation_dogs_dir)))\n",
        "print('total test cat images:', len(os.listdir(test_cats_dir)))\n",
        "print('total test dog images:', len(os.listdir(test_dogs_dir)))"
      ],
      "metadata": {
        "colab": {
          "base_uri": "https://localhost:8080/"
        },
        "id": "73xK2I8Mt7eB",
        "outputId": "89028aa8-6626-484f-bb7b-cfdecab34490"
      },
      "execution_count": null,
      "outputs": [
        {
          "output_type": "stream",
          "name": "stdout",
          "text": [
            "total training cat images: 1000\n",
            "total training dog images: 1000\n",
            "total validation cat images: 500\n",
            "total validation dog images: 500\n",
            "total test cat images: 500\n",
            "total test dog images: 500\n"
          ]
        }
      ]
    },
    {
      "cell_type": "code",
      "source": [
        "from keras import layers\n",
        "from keras import models\n",
        "\n",
        "#Created sequential models using Keras\n",
        "model = models.Sequential()\n",
        "model.add(layers.Conv2D(32, (3, 3), activation='relu', input_shape=(150, 150, 3)))\n",
        "model.add(layers.MaxPooling2D((2, 2)))\n",
        "model.add(layers.Conv2D(64, (3, 3), activation='relu'))\n",
        "model.add(layers.MaxPooling2D((2, 2)))\n",
        "model.add(layers.Conv2D(128, (3, 3), activation='relu'))\n",
        "model.add(layers.MaxPooling2D((2, 2)))\n",
        "model.add(layers.Conv2D(128, (3, 3), activation='relu'))\n",
        "model.add(layers.MaxPooling2D((2, 2)))\n",
        "model.add(layers.Flatten())\n",
        "model.add(layers.Dense(512, activation='relu'))\n",
        "model.add(layers.Dense(1, activation='sigmoid'))\n",
        "model.summary()"
      ],
      "metadata": {
        "colab": {
          "base_uri": "https://localhost:8080/"
        },
        "id": "Tpv_Xi5VpLw0",
        "outputId": "46b163ea-34e0-40e7-845a-92baaf50ce13"
      },
      "execution_count": null,
      "outputs": [
        {
          "output_type": "stream",
          "name": "stdout",
          "text": [
            "Model: \"sequential_2\"\n",
            "_________________________________________________________________\n",
            " Layer (type)                Output Shape              Param #   \n",
            "=================================================================\n",
            " conv2d_8 (Conv2D)           (None, 148, 148, 32)      896       \n",
            "                                                                 \n",
            " max_pooling2d_8 (MaxPooling  (None, 74, 74, 32)       0         \n",
            " 2D)                                                             \n",
            "                                                                 \n",
            " conv2d_9 (Conv2D)           (None, 72, 72, 64)        18496     \n",
            "                                                                 \n",
            " max_pooling2d_9 (MaxPooling  (None, 36, 36, 64)       0         \n",
            " 2D)                                                             \n",
            "                                                                 \n",
            " conv2d_10 (Conv2D)          (None, 34, 34, 128)       73856     \n",
            "                                                                 \n",
            " max_pooling2d_10 (MaxPoolin  (None, 17, 17, 128)      0         \n",
            " g2D)                                                            \n",
            "                                                                 \n",
            " conv2d_11 (Conv2D)          (None, 15, 15, 128)       147584    \n",
            "                                                                 \n",
            " max_pooling2d_11 (MaxPoolin  (None, 7, 7, 128)        0         \n",
            " g2D)                                                            \n",
            "                                                                 \n",
            " flatten_2 (Flatten)         (None, 6272)              0         \n",
            "                                                                 \n",
            " dense_4 (Dense)             (None, 512)               3211776   \n",
            "                                                                 \n",
            " dense_5 (Dense)             (None, 1)                 513       \n",
            "                                                                 \n",
            "=================================================================\n",
            "Total params: 3,453,121\n",
            "Trainable params: 3,453,121\n",
            "Non-trainable params: 0\n",
            "_________________________________________________________________\n"
          ]
        }
      ]
    },
    {
      "cell_type": "code",
      "source": [
        "# from tensorflow import keras\n",
        "from tensorflow.keras import optimizers\n",
        "model.compile(loss='binary_crossentropy', \n",
        "              optimizer=optimizers.RMSprop(learning_rate=1e-4),\n",
        "              metrics=['acc'])"
      ],
      "metadata": {
        "id": "AL8KDxFdq7Yc"
      },
      "execution_count": null,
      "outputs": []
    },
    {
      "cell_type": "code",
      "source": [
        "from keras.preprocessing.image import ImageDataGenerator\n",
        "\n",
        "train_datagen = ImageDataGenerator(rescale=1./255)\n",
        "test_datagen = ImageDataGenerator(rescale=1./255)\n",
        "\n",
        "train_generator = train_datagen.flow_from_directory(train_dir,\n",
        "                                                    target_size=(150, 150), \n",
        "                                                    batch_size=20,\n",
        "                                                    class_mode='binary')\n",
        "\n",
        "validation_generator = test_datagen.flow_from_directory(validation_dir,\n",
        "                                                        target_size=(150, 150),\n",
        "                                                        batch_size=20,\n",
        "                                                        class_mode='binary')"
      ],
      "metadata": {
        "colab": {
          "base_uri": "https://localhost:8080/"
        },
        "id": "uZnJkTqLt6wc",
        "outputId": "714f4504-fd39-45f7-9e4b-af0a0131c7ed"
      },
      "execution_count": null,
      "outputs": [
        {
          "output_type": "stream",
          "name": "stdout",
          "text": [
            "Found 2000 images belonging to 2 classes.\n",
            "Found 1000 images belonging to 2 classes.\n"
          ]
        }
      ]
    },
    {
      "cell_type": "code",
      "source": [
        "history = model.fit_generator(train_generator,\n",
        "                              steps_per_epoch=100,\n",
        "                              epochs=20,\n",
        "                              validation_data=validation_generator,\n",
        "                              validation_steps=50)\n",
        "\n",
        "model.save('cats_and_dogs_small_1.h5')"
      ],
      "metadata": {
        "colab": {
          "base_uri": "https://localhost:8080/"
        },
        "id": "_71M_h9kuMpg",
        "outputId": "1eeaaeff-69be-4305-c7b4-a6caca60c392"
      },
      "execution_count": null,
      "outputs": [
        {
          "output_type": "stream",
          "name": "stdout",
          "text": [
            "Epoch 1/20\n"
          ]
        },
        {
          "output_type": "stream",
          "name": "stderr",
          "text": [
            "/usr/local/lib/python3.7/dist-packages/ipykernel_launcher.py:5: UserWarning: `Model.fit_generator` is deprecated and will be removed in a future version. Please use `Model.fit`, which supports generators.\n",
            "  \"\"\"\n"
          ]
        },
        {
          "output_type": "stream",
          "name": "stdout",
          "text": [
            "100/100 [==============================] - 10s 94ms/step - loss: 0.6857 - acc: 0.5315 - val_loss: 0.6899 - val_acc: 0.5230\n",
            "Epoch 2/20\n",
            "100/100 [==============================] - 9s 92ms/step - loss: 0.6503 - acc: 0.6160 - val_loss: 0.6283 - val_acc: 0.6520\n",
            "Epoch 3/20\n",
            "100/100 [==============================] - 9s 92ms/step - loss: 0.6052 - acc: 0.6780 - val_loss: 0.6269 - val_acc: 0.6280\n",
            "Epoch 4/20\n",
            "100/100 [==============================] - 9s 92ms/step - loss: 0.5639 - acc: 0.7045 - val_loss: 0.6235 - val_acc: 0.6540\n",
            "Epoch 5/20\n",
            "100/100 [==============================] - 9s 92ms/step - loss: 0.5264 - acc: 0.7300 - val_loss: 0.5871 - val_acc: 0.6900\n",
            "Epoch 6/20\n",
            "100/100 [==============================] - 9s 91ms/step - loss: 0.5046 - acc: 0.7555 - val_loss: 0.5656 - val_acc: 0.7070\n",
            "Epoch 7/20\n",
            "100/100 [==============================] - 9s 91ms/step - loss: 0.4747 - acc: 0.7805 - val_loss: 0.5619 - val_acc: 0.7170\n",
            "Epoch 8/20\n",
            "100/100 [==============================] - 9s 92ms/step - loss: 0.4439 - acc: 0.7935 - val_loss: 0.5760 - val_acc: 0.7120\n",
            "Epoch 9/20\n",
            "100/100 [==============================] - 9s 92ms/step - loss: 0.4170 - acc: 0.8055 - val_loss: 0.5654 - val_acc: 0.7140\n",
            "Epoch 10/20\n",
            "100/100 [==============================] - 9s 90ms/step - loss: 0.3911 - acc: 0.8290 - val_loss: 0.5550 - val_acc: 0.7260\n",
            "Epoch 11/20\n",
            "100/100 [==============================] - 9s 91ms/step - loss: 0.3573 - acc: 0.8465 - val_loss: 0.6275 - val_acc: 0.6920\n",
            "Epoch 12/20\n",
            "100/100 [==============================] - 9s 91ms/step - loss: 0.3293 - acc: 0.8620 - val_loss: 0.6459 - val_acc: 0.7150\n",
            "Epoch 13/20\n",
            "100/100 [==============================] - 9s 90ms/step - loss: 0.3162 - acc: 0.8665 - val_loss: 0.5781 - val_acc: 0.7420\n",
            "Epoch 14/20\n",
            "100/100 [==============================] - 9s 90ms/step - loss: 0.2863 - acc: 0.8830 - val_loss: 0.5819 - val_acc: 0.7220\n",
            "Epoch 15/20\n",
            "100/100 [==============================] - 9s 90ms/step - loss: 0.2657 - acc: 0.8975 - val_loss: 0.5984 - val_acc: 0.7250\n",
            "Epoch 16/20\n",
            "100/100 [==============================] - 9s 90ms/step - loss: 0.2370 - acc: 0.9080 - val_loss: 0.6308 - val_acc: 0.7240\n",
            "Epoch 17/20\n",
            "100/100 [==============================] - 9s 91ms/step - loss: 0.2193 - acc: 0.9165 - val_loss: 0.6949 - val_acc: 0.7230\n",
            "Epoch 18/20\n",
            "100/100 [==============================] - 9s 91ms/step - loss: 0.1857 - acc: 0.9375 - val_loss: 0.7141 - val_acc: 0.7310\n",
            "Epoch 19/20\n",
            "100/100 [==============================] - 9s 90ms/step - loss: 0.1626 - acc: 0.9425 - val_loss: 0.8520 - val_acc: 0.6950\n",
            "Epoch 20/20\n",
            "100/100 [==============================] - 9s 89ms/step - loss: 0.1523 - acc: 0.9445 - val_loss: 0.7681 - val_acc: 0.7330\n"
          ]
        }
      ]
    },
    {
      "cell_type": "code",
      "source": [
        "import matplotlib.pyplot as plt\n",
        "\n",
        "acc = history.history['acc']\n",
        "val_acc = history.history['val_acc']\n",
        "loss = history.history['loss']\n",
        "val_loss = history.history['val_loss']\n",
        "\n",
        "epochs = range(1, len(acc) + 1)\n",
        "\n",
        "plt.plot(epochs, acc, 'bo', label='Training acc')\n",
        "plt.plot(epochs, val_acc, 'b', label='Validation acc')\n",
        "plt.title('Training and validation accuracy')\n",
        "plt.legend()\n",
        "\n",
        "plt.figure()\n",
        "\n",
        "plt.plot(epochs, loss, 'bo', label='Training loss')\n",
        "plt.plot(epochs, val_loss, 'b', label='Validation loss')\n",
        "plt.title('Training and validation loss')\n",
        "plt.legend()\n",
        "\n",
        "plt.show()\n",
        "\n",
        "# Generate generalization metrics\n",
        "score = model.evaluate(train_generator, verbose=0)\n",
        "print(f'Test loss: {score[0]} / Test accuracy: {score[1]}')"
      ],
      "metadata": {
        "colab": {
          "base_uri": "https://localhost:8080/",
          "height": 563
        },
        "id": "1lKCYBCguc3M",
        "outputId": "7f4eb6dc-4fee-4005-9531-cd1168fe6c40"
      },
      "execution_count": null,
      "outputs": [
        {
          "output_type": "display_data",
          "data": {
            "text/plain": [
              "<Figure size 432x288 with 1 Axes>"
            ],
            "image/png": "[encoded data removed]"
          },
          "metadata": {
            "needs_background": "light"
          }
        },
        {
          "output_type": "display_data",
          "data": {
            "text/plain": [
              "<Figure size 432x288 with 1 Axes>"
            ],
            "image/png": "[encoded data removed]"
          },
          "metadata": {
            "needs_background": "light"
          }
        },
        {
          "output_type": "stream",
          "name": "stdout",
          "text": [
            "Test loss: 0.1595541387796402 / Test accuracy: 0.9390000104904175\n"
          ]
        }
      ]
    },
    {
      "cell_type": "code",
      "source": [
        "model = models.Sequential()\n",
        "model.add(layers.Conv2D(32, (3, 3), activation='relu',\n",
        "input_shape=(150, 150, 3)))\n",
        "model.add(layers.MaxPooling2D((2, 2)))\n",
        "model.add(layers.Conv2D(64, (3, 3), activation='relu'))\n",
        "model.add(layers.MaxPooling2D((2, 2)))\n",
        "model.add(layers.Conv2D(128, (3, 3), activation='relu'))\n",
        "model.add(layers.MaxPooling2D((2, 2)))\n",
        "model.add(layers.Conv2D(128, (3, 3), activation='relu'))\n",
        "model.add(layers.MaxPooling2D((2, 2)))\n",
        "model.add(layers.Flatten())\n",
        "model.add(layers.Dropout(0.5))\n",
        "model.add(layers.Dense(512, activation='relu'))\n",
        "model.add(layers.Dense(1, activation='sigmoid'))"
      ],
      "metadata": {
        "id": "lFjH768tSxK4"
      },
      "execution_count": null,
      "outputs": []
    },
    {
      "cell_type": "code",
      "source": [
        "from tensorflow.keras import optimizers\n",
        "model.compile(loss='binary_crossentropy', \n",
        "              optimizer=optimizers.RMSprop(learning_rate=1e-4),\n",
        "              metrics=['acc'])"
      ],
      "metadata": {
        "id": "Ja-5r1D5T0_1"
      },
      "execution_count": null,
      "outputs": []
    },
    {
      "cell_type": "code",
      "source": [
        "train_datagen = ImageDataGenerator(rescale=1./255,\n",
        "                                   rotation_range=40,\n",
        "                                   width_shift_range=0.2,\n",
        "                                   height_shift_range=0.2,\n",
        "                                   shear_range=0.2,\n",
        "                                   zoom_range=0.2,\n",
        "                                   horizontal_flip=True,)\n",
        "\n",
        "test_datagen = ImageDataGenerator(rescale=1./255)\n",
        "\n",
        "train_generator = train_datagen.flow_from_directory(train_dir,\n",
        "                                                    target_size=(150, 150),\n",
        "                                                    batch_size=20,\n",
        "                                                    class_mode='binary')\n",
        "\n",
        "validation_generator = test_datagen.flow_from_directory(validation_dir,\n",
        "                                                        target_size=(150, 150),\n",
        "                                                        batch_size=20,\n",
        "                                                        class_mode='binary')\n",
        "\n",
        "history = model.fit(train_generator,\n",
        "                              steps_per_epoch=100,\n",
        "                              epochs=20,\n",
        "                              validation_data=validation_generator,\n",
        "                              validation_steps=50)\n",
        "model.save('cats_and_dogs_small_2.h5')"
      ],
      "metadata": {
        "colab": {
          "base_uri": "https://localhost:8080/"
        },
        "id": "QiyWtN3oUM8p",
        "outputId": "f98c4654-bc49-4f3f-b294-9e53e056d13b"
      },
      "execution_count": null,
      "outputs": [
        {
          "output_type": "stream",
          "name": "stdout",
          "text": [
            "Found 2000 images belonging to 2 classes.\n",
            "Found 1000 images belonging to 2 classes.\n",
            "Epoch 1/20\n",
            "100/100 [==============================] - 18s 175ms/step - loss: 0.6929 - acc: 0.4945 - val_loss: 0.6931 - val_acc: 0.5000\n",
            "Epoch 2/20\n",
            "100/100 [==============================] - 17s 174ms/step - loss: 0.6817 - acc: 0.5405 - val_loss: 0.6553 - val_acc: 0.6090\n",
            "Epoch 3/20\n",
            "100/100 [==============================] - 17s 171ms/step - loss: 0.6660 - acc: 0.5800 - val_loss: 0.6367 - val_acc: 0.6220\n",
            "Epoch 4/20\n",
            "100/100 [==============================] - 18s 181ms/step - loss: 0.6416 - acc: 0.6245 - val_loss: 0.6173 - val_acc: 0.6500\n",
            "Epoch 5/20\n",
            "100/100 [==============================] - 17s 171ms/step - loss: 0.6323 - acc: 0.6250 - val_loss: 0.6032 - val_acc: 0.6710\n",
            "Epoch 6/20\n",
            "100/100 [==============================] - 17s 171ms/step - loss: 0.6206 - acc: 0.6450 - val_loss: 0.6097 - val_acc: 0.6500\n",
            "Epoch 7/20\n",
            "100/100 [==============================] - 17s 173ms/step - loss: 0.6105 - acc: 0.6705 - val_loss: 0.6153 - val_acc: 0.6500\n",
            "Epoch 8/20\n",
            "100/100 [==============================] - 17s 173ms/step - loss: 0.6027 - acc: 0.6745 - val_loss: 0.6312 - val_acc: 0.6380\n",
            "Epoch 9/20\n",
            "100/100 [==============================] - 17s 175ms/step - loss: 0.5904 - acc: 0.6900 - val_loss: 0.5804 - val_acc: 0.6890\n",
            "Epoch 10/20\n",
            "100/100 [==============================] - 17s 173ms/step - loss: 0.5917 - acc: 0.6710 - val_loss: 0.5777 - val_acc: 0.6740\n",
            "Epoch 11/20\n",
            "100/100 [==============================] - 17s 174ms/step - loss: 0.5946 - acc: 0.6775 - val_loss: 0.6129 - val_acc: 0.6770\n",
            "Epoch 12/20\n",
            "100/100 [==============================] - 17s 173ms/step - loss: 0.5790 - acc: 0.6995 - val_loss: 0.5670 - val_acc: 0.6960\n",
            "Epoch 13/20\n",
            "100/100 [==============================] - 17s 174ms/step - loss: 0.5798 - acc: 0.6925 - val_loss: 0.5458 - val_acc: 0.7210\n",
            "Epoch 14/20\n",
            "100/100 [==============================] - 17s 172ms/step - loss: 0.5750 - acc: 0.6905 - val_loss: 0.5775 - val_acc: 0.6710\n",
            "Epoch 15/20\n",
            "100/100 [==============================] - 17s 173ms/step - loss: 0.5705 - acc: 0.6965 - val_loss: 0.6470 - val_acc: 0.6240\n",
            "Epoch 16/20\n",
            "100/100 [==============================] - 17s 174ms/step - loss: 0.5593 - acc: 0.7070 - val_loss: 0.5417 - val_acc: 0.7110\n",
            "Epoch 17/20\n",
            "100/100 [==============================] - 18s 178ms/step - loss: 0.5521 - acc: 0.7135 - val_loss: 0.5208 - val_acc: 0.7360\n",
            "Epoch 18/20\n",
            "100/100 [==============================] - 18s 177ms/step - loss: 0.5560 - acc: 0.7150 - val_loss: 0.5971 - val_acc: 0.6770\n",
            "Epoch 19/20\n",
            "100/100 [==============================] - 17s 175ms/step - loss: 0.5476 - acc: 0.7210 - val_loss: 0.5413 - val_acc: 0.7280\n",
            "Epoch 20/20\n",
            "100/100 [==============================] - 17s 173ms/step - loss: 0.5455 - acc: 0.7310 - val_loss: 0.5042 - val_acc: 0.7470\n"
          ]
        }
      ]
    },
    {
      "cell_type": "code",
      "source": [
        "acc = history.history['acc']\n",
        "val_acc = history.history['val_acc']\n",
        "loss = history.history['loss']\n",
        "val_loss = history.history['val_loss']\n",
        "\n",
        "epochs = range(1, len(acc) + 1)\n",
        "\n",
        "plt.plot(epochs, acc, 'bo', label='Training acc')\n",
        "plt.plot(epochs, val_acc, 'b', label='Validation acc')\n",
        "plt.title('Training and validation accuracy')\n",
        "plt.legend()\n",
        "\n",
        "plt.figure()\n",
        "\n",
        "plt.plot(epochs, loss, 'bo', label='Training loss')\n",
        "plt.plot(epochs, val_loss, 'b', label='Validation loss')\n",
        "plt.title('Training and validation loss')\n",
        "plt.legend()\n",
        "\n",
        "plt.show()\n",
        "\n",
        "# Generate generalization metrics\n",
        "score = model.evaluate(train_generator, verbose=0)\n",
        "print(f'Test loss: {score[0]} / Test accuracy: {score[1]}')"
      ],
      "metadata": {
        "colab": {
          "base_uri": "https://localhost:8080/",
          "height": 545
        },
        "id": "IUOLenicWJhp",
        "outputId": "ce528a0f-65aa-4926-a8d5-3bdfccd3704d"
      },
      "execution_count": null,
      "outputs": [
        {
          "output_type": "display_data",
          "data": {
            "text/plain": [
              "<Figure size 432x288 with 1 Axes>"
            ],
            "image/png": "[encoded data removed]"
          },
          "metadata": {
            "needs_background": "light"
          }
        },
        {
          "output_type": "display_data",
          "data": {
            "text/plain": [
              "<Figure size 432x288 with 1 Axes>"
            ],
            "image/png": "[encoded data removed]"
          },
          "metadata": {
            "needs_background": "light"
          }
        }
      ]
    },
    {
      "cell_type": "code",
      "source": [
        "from tensorflow.keras.models import Sequential, save_model, load_model\n",
        "filepath = './saved_model'\n",
        "save_model(model, filepath)"
      ],
      "metadata": {
        "colab": {
          "base_uri": "https://localhost:8080/"
        },
        "id": "0xDvc6fFZCua",
        "outputId": "e7580e2d-51fd-41e5-923f-1bea0a52ab8c"
      },
      "execution_count": null,
      "outputs": [
        {
          "output_type": "stream",
          "name": "stdout",
          "text": [
            "INFO:tensorflow:Assets written to: ./saved_model/assets\n"
          ]
        }
      ]
    },
    {
      "cell_type": "code",
      "source": [
        "# Load the model\n",
        "from tensorflow.keras.models import Sequential, save_model, load_model\n",
        "from keras.preprocessing.image import ImageDataGenerator\n",
        "import matplotlib.pyplot as plt\n",
        "import numpy as np\n",
        "\n",
        "filepath = './saved_model'\n",
        "\n",
        "# Model configuration\n",
        "img_width, img_height = 150, 150\n",
        "model = load_model(filepath, compile = True)\n",
        "\n",
        "\n",
        "\n",
        "# Generate generalization metrics\n",
        "score = model.evaluate(train_generator, verbose=0)\n",
        "print(f'Test loss: {score[0]} / Test accuracy: {score[1]}')\n"
      ],
      "metadata": {
        "colab": {
          "base_uri": "https://localhost:8080/"
        },
        "id": "xTQikRx_cvB3",
        "outputId": "c4288a0f-9cbb-4ecc-b1c1-aecf0280388a"
      },
      "execution_count": null,
      "outputs": [
        {
          "output_type": "stream",
          "name": "stdout",
          "text": [
            "Test loss: 0.4702562093734741 / Test accuracy: 0.7764999866485596\n"
          ]
        }
      ]
    }
  ]
}